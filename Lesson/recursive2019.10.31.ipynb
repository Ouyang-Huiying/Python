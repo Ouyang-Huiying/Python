{
 "cells": [
  {
   "cell_type": "code",
   "execution_count": 2,
   "metadata": {},
   "outputs": [
    {
     "name": "stdout",
     "output_type": "stream",
     "text": [
      "5 4 3 2 1 "
     ]
    }
   ],
   "source": [
    "def print_numbers(n):\n",
    "    print(n,end=' ')\n",
    "    if n>1:\n",
    "        print_numbers(n-1)\n",
    "        \n",
    "print_numbers(5)"
   ]
  },
  {
   "cell_type": "code",
   "execution_count": 3,
   "metadata": {},
   "outputs": [
    {
     "name": "stdout",
     "output_type": "stream",
     "text": [
      "1 2 3 4 5 "
     ]
    }
   ],
   "source": [
    "def print_number(n):\n",
    "    print(n,end=' ')\n",
    "    if n<5:\n",
    "        print_number(n+1)\n",
    "print_number(1)"
   ]
  },
  {
   "cell_type": "code",
   "execution_count": 5,
   "metadata": {},
   "outputs": [
    {
     "name": "stdout",
     "output_type": "stream",
     "text": [
      "1346269\n"
     ]
    }
   ],
   "source": [
    "def fib(i):\n",
    "    if i==1 or i==0:\n",
    "        return 1\n",
    "    else:\n",
    "        return fib(i-1)+fib(i-2)\n",
    "    \n",
    "print(fib(30))"
   ]
  },
  {
   "cell_type": "code",
   "execution_count": 6,
   "metadata": {
    "scrolled": true
   },
   "outputs": [
    {
     "name": "stdout",
     "output_type": "stream",
     "text": [
      "775 ms ± 14.4 ms per loop (mean ± std. dev. of 7 runs, 1 loop each)\n"
     ]
    }
   ],
   "source": [
    "%timeit fib(30)"
   ]
  },
  {
   "cell_type": "code",
   "execution_count": 9,
   "metadata": {},
   "outputs": [],
   "source": [
    "cache=dict()\n",
    "def fib_cached(i):        #缓存区，以空间换时间\n",
    "    global cache\n",
    "    if i in (0,1):\n",
    "        return 1\n",
    "    else:\n",
    "        result =cache.get(i)\n",
    "        if result is None:\n",
    "            result =fib_cached(i-1)+fib_cached(i-2)\n",
    "            cache[i]=result\n",
    "        return result"
   ]
  },
  {
   "cell_type": "code",
   "execution_count": 10,
   "metadata": {},
   "outputs": [
    {
     "name": "stdout",
     "output_type": "stream",
     "text": [
      "467 ns ± 16.4 ns per loop (mean ± std. dev. of 7 runs, 1000000 loops each)\n"
     ]
    }
   ],
   "source": [
    "%timeit fib_cached(33)"
   ]
  },
  {
   "cell_type": "code",
   "execution_count": 14,
   "metadata": {
    "scrolled": false
   },
   "outputs": [
    {
     "data": {
      "text/plain": [
       "12586269025"
      ]
     },
     "execution_count": 14,
     "metadata": {},
     "output_type": "execute_result"
    }
   ],
   "source": [
    "cache={0:0,1:1}\n",
    "def fib_cached(i):\n",
    "    global cache\n",
    "    result =cache.get(i)\n",
    "    if result is None:\n",
    "        result =fib_cached(i-1)+fib_cached(i-2)\n",
    "        cache[i]=result\n",
    "    return result\n",
    "\n",
    "fib_cached(50)"
   ]
  },
  {
   "cell_type": "code",
   "execution_count": 17,
   "metadata": {},
   "outputs": [
    {
     "ename": "ImportError",
     "evalue": "cannot import name 'Iru_cache' from 'functools' (C:\\Users\\Ouyang\\AppData\\Local\\Continuum\\anaconda3\\lib\\functools.py)",
     "output_type": "error",
     "traceback": [
      "\u001b[1;31m---------------------------------------------------------------------------\u001b[0m",
      "\u001b[1;31mImportError\u001b[0m                               Traceback (most recent call last)",
      "\u001b[1;32m<ipython-input-17-d2da95535cd2>\u001b[0m in \u001b[0;36m<module>\u001b[1;34m\u001b[0m\n\u001b[1;32m----> 1\u001b[1;33m \u001b[1;32mfrom\u001b[0m \u001b[0mfunctools\u001b[0m \u001b[1;32mimport\u001b[0m \u001b[0mIru_cache\u001b[0m  \u001b[1;31m#装饰器\u001b[0m\u001b[1;33m\u001b[0m\u001b[1;33m\u001b[0m\u001b[0m\n\u001b[0m\u001b[0;32m      2\u001b[0m \u001b[1;33m\u001b[0m\u001b[0m\n\u001b[0;32m      3\u001b[0m \u001b[1;33m@\u001b[0m\u001b[0mIru_cache\u001b[0m\u001b[1;33m(\u001b[0m\u001b[0mmaxsize\u001b[0m\u001b[1;33m=\u001b[0m\u001b[1;32mNone\u001b[0m\u001b[1;33m)\u001b[0m  \u001b[1;31m#max_size返回多少次\u001b[0m\u001b[1;33m\u001b[0m\u001b[1;33m\u001b[0m\u001b[0m\n\u001b[0;32m      4\u001b[0m \u001b[1;32mdef\u001b[0m \u001b[0mfib\u001b[0m\u001b[1;33m(\u001b[0m\u001b[0mi\u001b[0m\u001b[1;33m)\u001b[0m\u001b[1;33m:\u001b[0m\u001b[1;33m\u001b[0m\u001b[1;33m\u001b[0m\u001b[0m\n\u001b[0;32m      5\u001b[0m     \u001b[1;32mif\u001b[0m \u001b[0mi\u001b[0m\u001b[1;33m==\u001b[0m\u001b[1;36m1\u001b[0m \u001b[1;32mor\u001b[0m \u001b[0mi\u001b[0m\u001b[1;33m==\u001b[0m\u001b[1;36m0\u001b[0m\u001b[1;33m:\u001b[0m\u001b[1;33m\u001b[0m\u001b[1;33m\u001b[0m\u001b[0m\n",
      "\u001b[1;31mImportError\u001b[0m: cannot import name 'Iru_cache' from 'functools' (C:\\Users\\Ouyang\\AppData\\Local\\Continuum\\anaconda3\\lib\\functools.py)"
     ]
    }
   ],
   "source": [
    "from functools import Iru_cache  #装饰器\n",
    "\n",
    "@Iru_cache(maxsize=None)  #max_size返回多少次\n",
    "def fib(i):\n",
    "    if i==1 or i==0:\n",
    "        return 1\n",
    "    else:\n",
    "        return fib(i-1)+fib(i-2)\n",
    "    "
   ]
  },
  {
   "cell_type": "code",
   "execution_count": 19,
   "metadata": {},
   "outputs": [
    {
     "name": "stdout",
     "output_type": "stream",
     "text": [
      "A->C\n",
      "A->B\n",
      "C->B\n"
     ]
    }
   ],
   "source": [
    "def hanoi (n,source,target,temp):\n",
    "    if n==1:\n",
    "        print('{}->{}'.format(source,target))\n",
    "    else:\n",
    "        hanoi(n-1,source,temp,target)\n",
    "        print('{}->{}'.format(source,target))\n",
    "        hanoi(n-1,temp,target,source)\n",
    "\n",
    "        \n",
    "hanoi(2,'A','B','C')"
   ]
  },
  {
   "cell_type": "code",
   "execution_count": 22,
   "metadata": {},
   "outputs": [
    {
     "name": "stdout",
     "output_type": "stream",
     "text": [
      "0 1 2 3 4 5 6 7 8 9 ***\n",
      "0 1 2 3 4 5 6 7 8 9 "
     ]
    }
   ],
   "source": [
    "for i in range(0,10):\n",
    "    print(i,end=' ')\n",
    "\n",
    "print('***')\n",
    "a=list(range(0,10))  #预先为a分配位置\n",
    "for item in a:\n",
    "    print(item,end=' ')"
   ]
  },
  {
   "cell_type": "code",
   "execution_count": 24,
   "metadata": {},
   "outputs": [
    {
     "name": "stdout",
     "output_type": "stream",
     "text": [
      "range(0, 10)\n"
     ]
    }
   ],
   "source": [
    "r=range(0,10)\n",
    "print(r)"
   ]
  },
  {
   "cell_type": "code",
   "execution_count": 28,
   "metadata": {},
   "outputs": [
    {
     "name": "stdout",
     "output_type": "stream",
     "text": [
      "[0, 1, 1, 2, 3, 5, 8, 13, 21, 34]\n"
     ]
    }
   ],
   "source": [
    "def fib(n):\n",
    "    result=[0,1]\n",
    "    second_last=0\n",
    "    last=1\n",
    "    for i in range(n-2):\n",
    "        second_last,last=last,second_last+last\n",
    "        result.append(last)\n",
    "        \n",
    "    return result\n",
    "\n",
    "print(fib(10))"
   ]
  },
  {
   "cell_type": "code",
   "execution_count": 29,
   "metadata": {},
   "outputs": [
    {
     "name": "stdout",
     "output_type": "stream",
     "text": [
      "0 1 1 2 3 5 8 13 21 34 "
     ]
    }
   ],
   "source": [
    "def fib_gen(n):\n",
    "    second_last=0\n",
    "    last=1\n",
    "    yield 0   #生成性函数，遍历，省内存\n",
    "    yield 1\n",
    "    for i in range(n-2):\n",
    "        second_last,last=last,second_last+last\n",
    "        yield last\n",
    "        \n",
    "for i in fib_gen(10):\n",
    "    print(i,end=' ')\n"
   ]
  },
  {
   "cell_type": "code",
   "execution_count": 30,
   "metadata": {},
   "outputs": [
    {
     "name": "stdout",
     "output_type": "stream",
     "text": [
      "[1, 2, 3, 4, 5]\n"
     ]
    }
   ],
   "source": [
    "nested=[[1,2],[3,4],[5]]\n",
    "\n",
    "def flatten(nested):\n",
    "    result =list()\n",
    "    for sublist in nested:\n",
    "        for item in sublist:\n",
    "            result.append(item)\n",
    "            \n",
    "    return result\n",
    "\n",
    "flatten_list=flatten(nested)\n",
    "print(flatten_list)"
   ]
  },
  {
   "cell_type": "code",
   "execution_count": 31,
   "metadata": {},
   "outputs": [
    {
     "name": "stdout",
     "output_type": "stream",
     "text": [
      "[1, 2, 3, 4, 5, 6]\n"
     ]
    }
   ],
   "source": [
    "nested=[[1,2],[3,4],[5],6]\n",
    "\n",
    "def flatten(nested):\n",
    "    result =list()\n",
    "    for sublist in nested:\n",
    "        try:                      #异常处理\n",
    "            for item in sublist:\n",
    "                result.append(item)\n",
    "        except TypeError:        #发现Type Error型错误\n",
    "            result.append(sublist)\n",
    "            \n",
    "    return result\n",
    "\n",
    "flatten_list=flatten(nested)\n",
    "print(flatten_list)"
   ]
  },
  {
   "cell_type": "code",
   "execution_count": 39,
   "metadata": {},
   "outputs": [
    {
     "name": "stdout",
     "output_type": "stream",
     "text": [
      "<generator object flatten at 0x0000021F1FF51390>\n"
     ]
    }
   ],
   "source": [
    "nested=[[1,[2,2.1]],[3,4],[5],6]\n",
    "\n",
    "def flatten(nested):            #flatten 成为一个生成器\n",
    "    result =list()\n",
    "    for sublist in nested:\n",
    "        try:                      \n",
    "            for item in flatten(sublist):  #递归调用，可处理多层级列表\n",
    "                yield item\n",
    "        except TypeError:        \n",
    "            yield sublist\n",
    "            \n",
    "\n",
    "flatten_list=flatten(nested)\n",
    "print(flatten_list)"
   ]
  },
  {
   "cell_type": "code",
   "execution_count": 40,
   "metadata": {},
   "outputs": [
    {
     "name": "stdout",
     "output_type": "stream",
     "text": [
      "1 2 2.1 3 4 5 6 "
     ]
    }
   ],
   "source": [
    "for item in flatten_list:\n",
    "    print(item,end=' ')"
   ]
  },
  {
   "cell_type": "code",
   "execution_count": 44,
   "metadata": {},
   "outputs": [],
   "source": [
    "\n",
    "def flatten(nested):  \n",
    "    try:\n",
    "        try:nest+''\n",
    "        except TypeError:pass\n",
    "        else:raise TypeError\n",
    "            \n",
    "        for sublist in nested:\n",
    "            try:                      \n",
    "                for item in flatten(sublist):  #递归调用，可处理多层级列表\n",
    "                    yield item\n",
    "            except TypeError:        \n",
    "                yield sublist\n",
    "            \n",
    "    except TypeError:\n",
    "        yield nested\n"
   ]
  },
  {
   "cell_type": "code",
   "execution_count": 46,
   "metadata": {},
   "outputs": [
    {
     "ename": "SyntaxError",
     "evalue": "invalid syntax (<ipython-input-46-b8fd6dc5ae42>, line 2)",
     "output_type": "error",
     "traceback": [
      "\u001b[1;36m  File \u001b[1;32m\"<ipython-input-46-b8fd6dc5ae42>\"\u001b[1;36m, line \u001b[1;32m2\u001b[0m\n\u001b[1;33m    from item in flatten(nested):\u001b[0m\n\u001b[1;37m               ^\u001b[0m\n\u001b[1;31mSyntaxError\u001b[0m\u001b[1;31m:\u001b[0m invalid syntax\n"
     ]
    }
   ],
   "source": [
    "nested=['hello',[1,2]]\n",
    "from item in flatten(nested):\n",
    "    print(item,end=' ')"
   ]
  },
  {
   "cell_type": "code",
   "execution_count": 43,
   "metadata": {},
   "outputs": [
    {
     "data": {
      "text/plain": [
       "['hello', '41', 'x41']"
      ]
     },
     "execution_count": 43,
     "metadata": {},
     "output_type": "execute_result"
    }
   ],
   "source": [
    "def func(x):              #找出字母数字，全部找出来放入list\n",
    "    return x.isalnum()  \n",
    "\n",
    "seq=['hello','41','x41','?']\n",
    "list(filter(func,seq))"
   ]
  },
  {
   "cell_type": "code",
   "execution_count": 47,
   "metadata": {},
   "outputs": [
    {
     "data": {
      "text/plain": [
       "['hello', '41', 'x41']"
      ]
     },
     "execution_count": 47,
     "metadata": {},
     "output_type": "execute_result"
    }
   ],
   "source": [
    "list(filter(lambda x:x.isalnum(),seq))"
   ]
  },
  {
   "cell_type": "code",
   "execution_count": 48,
   "metadata": {},
   "outputs": [
    {
     "data": {
      "text/plain": [
       "True"
      ]
     },
     "execution_count": 48,
     "metadata": {},
     "output_type": "execute_result"
    }
   ],
   "source": [
    "f=lambda x:x.isalnum() #难以理解\n",
    "f('hello')"
   ]
  },
  {
   "cell_type": "code",
   "execution_count": 49,
   "metadata": {},
   "outputs": [
    {
     "data": {
      "text/plain": [
       "['hello', '41', 'x41']"
      ]
     },
     "execution_count": 49,
     "metadata": {},
     "output_type": "execute_result"
    }
   ],
   "source": [
    "[x for x in seq if x.isalnum()]   #前提：前面已导入：import functools"
   ]
  },
  {
   "cell_type": "code",
   "execution_count": 53,
   "metadata": {},
   "outputs": [
    {
     "data": {
      "text/plain": [
       "['0', '1', '2', '3', '4', '5', '6', '7', '8', '9']"
      ]
     },
     "execution_count": 53,
     "metadata": {},
     "output_type": "execute_result"
    }
   ],
   "source": [
    "import functools\n",
    "list(map(str,range(10)))"
   ]
  },
  {
   "cell_type": "code",
   "execution_count": 55,
   "metadata": {},
   "outputs": [
    {
     "data": {
      "text/plain": [
       "['0', '1', '2', '3', '4', '5', '6', '7', '8', '9']"
      ]
     },
     "execution_count": 55,
     "metadata": {},
     "output_type": "execute_result"
    }
   ],
   "source": [
    "[str(i) for i in range(10)]"
   ]
  },
  {
   "cell_type": "code",
   "execution_count": 56,
   "metadata": {},
   "outputs": [
    {
     "data": {
      "text/plain": [
       "31"
      ]
     },
     "execution_count": 56,
     "metadata": {},
     "output_type": "execute_result"
    }
   ],
   "source": [
    "from functools import reduce   #求和，reduce 使程序并行化\n",
    "numbers=[1,2,3,5,8,3,9,]\n",
    "reduce(lambda x,y:x+y,numbers)"
   ]
  },
  {
   "cell_type": "code",
   "execution_count": 60,
   "metadata": {},
   "outputs": [
    {
     "ename": "TypeError",
     "evalue": "'seq' is an invalid keyword argument for print()",
     "output_type": "error",
     "traceback": [
      "\u001b[1;31m---------------------------------------------------------------------------\u001b[0m",
      "\u001b[1;31mTypeError\u001b[0m                                 Traceback (most recent call last)",
      "\u001b[1;32m<ipython-input-60-97feabd1ea5b>\u001b[0m in \u001b[0;36m<module>\u001b[1;34m\u001b[0m\n\u001b[0;32m     45\u001b[0m \u001b[1;33m\u001b[0m\u001b[0m\n\u001b[0;32m     46\u001b[0m \u001b[0mupdate_bar\u001b[0m\u001b[1;33m(\u001b[0m\u001b[0mbar\u001b[0m\u001b[1;33m,\u001b[0m\u001b[0mants\u001b[0m\u001b[1;33m)\u001b[0m\u001b[1;33m\u001b[0m\u001b[1;33m\u001b[0m\u001b[0m\n\u001b[1;32m---> 47\u001b[1;33m \u001b[0mshow_bar\u001b[0m\u001b[1;33m(\u001b[0m\u001b[0mbar\u001b[0m\u001b[1;33m)\u001b[0m\u001b[1;33m\u001b[0m\u001b[1;33m\u001b[0m\u001b[0m\n\u001b[0m\u001b[0;32m     48\u001b[0m \u001b[1;33m\u001b[0m\u001b[0m\n\u001b[0;32m     49\u001b[0m \u001b[1;32mwhile\u001b[0m \u001b[1;32mnot\u001b[0m \u001b[0mis_bar_empty\u001b[0m\u001b[1;33m(\u001b[0m\u001b[0mbar\u001b[0m\u001b[1;33m)\u001b[0m\u001b[1;33m:\u001b[0m\u001b[1;33m\u001b[0m\u001b[1;33m\u001b[0m\u001b[0m\n",
      "\u001b[1;32m<ipython-input-60-97feabd1ea5b>\u001b[0m in \u001b[0;36mshow_bar\u001b[1;34m(bar)\u001b[0m\n\u001b[0;32m     32\u001b[0m \u001b[1;32mdef\u001b[0m \u001b[0mshow_bar\u001b[0m\u001b[1;33m(\u001b[0m\u001b[0mbar\u001b[0m\u001b[1;33m)\u001b[0m\u001b[1;33m:\u001b[0m\u001b[1;33m\u001b[0m\u001b[1;33m\u001b[0m\u001b[0m\n\u001b[0;32m     33\u001b[0m     \u001b[1;32mfor\u001b[0m \u001b[0mch\u001b[0m \u001b[1;32min\u001b[0m \u001b[0mbar\u001b[0m\u001b[1;33m:\u001b[0m\u001b[1;33m\u001b[0m\u001b[1;33m\u001b[0m\u001b[0m\n\u001b[1;32m---> 34\u001b[1;33m         \u001b[0mprint\u001b[0m\u001b[1;33m(\u001b[0m\u001b[0mch\u001b[0m\u001b[1;33m,\u001b[0m\u001b[0mseq\u001b[0m\u001b[1;33m=\u001b[0m\u001b[1;34m''\u001b[0m\u001b[1;33m,\u001b[0m\u001b[0mend\u001b[0m\u001b[1;33m=\u001b[0m\u001b[1;34m''\u001b[0m\u001b[1;33m)\u001b[0m\u001b[1;33m\u001b[0m\u001b[1;33m\u001b[0m\u001b[0m\n\u001b[0m\u001b[0;32m     35\u001b[0m     \u001b[0mprint\u001b[0m\u001b[1;33m(\u001b[0m\u001b[1;34m''\u001b[0m\u001b[1;33m,\u001b[0m\u001b[0mend\u001b[0m\u001b[1;33m=\u001b[0m\u001b[1;34m'\\r'\u001b[0m\u001b[1;33m)\u001b[0m\u001b[1;33m\u001b[0m\u001b[1;33m\u001b[0m\u001b[0m\n\u001b[0;32m     36\u001b[0m \u001b[1;33m\u001b[0m\u001b[0m\n",
      "\u001b[1;31mTypeError\u001b[0m: 'seq' is an invalid keyword argument for print()"
     ]
    }
   ],
   "source": [
    "from time import sleep    #\n",
    "\n",
    "bar_length=60\n",
    "def init_bar(bar length):\n",
    "    bar =list()\n",
    "    for i in range(length):\n",
    "        bar.append(' ')\n",
    "    return bar\n",
    "\n",
    "def clear_bar(bar):\n",
    "    for i in range(len(bar)):\n",
    "        bar[i]=' '\n",
    "        \n",
    "def  init_ants(bar_length=80):\n",
    "    ants=list()\n",
    "    ants.append({'position':0,'direction':1})\n",
    "    ants.append({'position':bar_length-1,'direction':-1})\n",
    "    return ants\n",
    "\n",
    "def update_bar(bar,ants):\n",
    "    clear_bar(bar)\n",
    "    for ant in ants:\n",
    "        if 0<=ant['position']<=len(bar):\n",
    "            bar[ant['position']]='*'\n",
    "        \n",
    "def is_bar_empty(bar):\n",
    "    for item in bar:\n",
    "        if not item==' ':\n",
    "            return False\n",
    "        else:return True\n",
    "    \n",
    "def show_bar(bar):\n",
    "    for ch in bar:\n",
    "        print(ch,seq='',end='')\n",
    "    print('',end='\\r')\n",
    "    \n",
    "def update_ants():\n",
    "    for ant in ants:\n",
    "        ant['position']+=ant['direction']\n",
    "    \n",
    "\n",
    "\n",
    "bar=init_bar(80)\n",
    "ants=init_ants(80)\n",
    "\n",
    "update_bar(bar,ants)\n",
    "show_bar(bar)\n",
    "\n",
    "while not is_bar_empty(bar):\n",
    "    sleep(0.5)\n",
    "    update_ants(ants)\n",
    "    update_bar(bar,ants)\n",
    "    show_bar(bar)"
   ]
  },
  {
   "cell_type": "code",
   "execution_count": null,
   "metadata": {},
   "outputs": [],
   "source": []
  }
 ],
 "metadata": {
  "kernelspec": {
   "display_name": "Python 3",
   "language": "python",
   "name": "python3"
  },
  "language_info": {
   "codemirror_mode": {
    "name": "ipython",
    "version": 3
   },
   "file_extension": ".py",
   "mimetype": "text/x-python",
   "name": "python",
   "nbconvert_exporter": "python",
   "pygments_lexer": "ipython3",
   "version": "3.7.3"
  }
 },
 "nbformat": 4,
 "nbformat_minor": 2
}
