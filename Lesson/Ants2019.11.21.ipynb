{
 "cells": [
  {
   "cell_type": "code",
   "execution_count": null,
   "metadata": {},
   "outputs": [],
   "source": [
    "class Bird:\n",
    "    def __init__(self):\n",
    "        self.hungry=True\n",
    "        def eat(self):\n",
    "            "
   ]
  },
  {
   "cell_type": "code",
   "execution_count": 2,
   "metadata": {},
   "outputs": [
    {
     "ename": "SyntaxError",
     "evalue": "unexpected EOF while parsing (<ipython-input-2-a9b50a11d62c>, line 1)",
     "output_type": "error",
     "traceback": [
      "\u001b[1;36m  File \u001b[1;32m\"<ipython-input-2-a9b50a11d62c>\"\u001b[1;36m, line \u001b[1;32m1\u001b[0m\n\u001b[1;33m    class SongBird(Bird):\u001b[0m\n\u001b[1;37m                         ^\u001b[0m\n\u001b[1;31mSyntaxError\u001b[0m\u001b[1;31m:\u001b[0m unexpected EOF while parsing\n"
     ]
    }
   ],
   "source": [
    "class SongBird(Bird):\n",
    "    def __init__(self):\n",
    "        super.__init(self):\n",
    "        self.sound='Squawkil'\n",
    "        \n",
    "    def sing(self):\n",
    "        print(self.sound)\n",
    "        \n",
    "s=SongBird()\n",
    "s.sing()\n",
    "s.eat()"
   ]
  },
  {
   "cell_type": "code",
   "execution_count": 9,
   "metadata": {},
   "outputs": [
    {
     "name": "stdout",
     "output_type": "stream",
     "text": [
      "a b c\n"
     ]
    }
   ],
   "source": [
    "class A:\n",
    "    def __init__(self):\n",
    "        self.a='a'\n",
    "        \n",
    "class B(A):                                 #派生函数\n",
    "    def __init__(self):\n",
    "        super().__init__()\n",
    "        self.b='b'\n",
    "        \n",
    "class C(B):\n",
    "    def __init__(self):\n",
    "        super().__init__()\n",
    "        self.c='c'\n",
    "        \n",
    "    def  test(self):\n",
    "        print(self.a,self.b,self.c)\n",
    "        \n",
    "c=C()\n",
    "c.test()"
   ]
  },
  {
   "cell_type": "code",
   "execution_count": null,
   "metadata": {},
   "outputs": [],
   "source": [
    "class Hamburger:                            #is a \n",
    "    pass\n",
    "\n",
    "class BeafHamburger(Hamburger):\n",
    "    pass\n",
    "\n",
    "class ChickenHamburger(Hamburger):\n",
    "    pass"
   ]
  },
  {
   "cell_type": "code",
   "execution_count": null,
   "metadata": {},
   "outputs": [],
   "source": [
    "class Hamburger:                    #has a 更方便，思考问题的方式\n",
    "    def __init__(self):\n",
    "        self.meat='beaf'\n",
    "        self.toppings=['tomato','bacon','onion ring']\n",
    "        condiments=['lime sour sauce']\n",
    "        \n",
    "    \n",
    "beaf_hamburger=Hamburger()\n",
    "beaf_hamburger.toppings=['tomato','lettuce']\n",
    "beaf_condiments=['mayo']\n",
    "\n",
    "chicken_hamburger=Hamburger()\n",
    "chicken_meat='chicken'\n",
    "chicken_hamburger.toppings=['red pepper','lettuce']\n",
    "chicken_condiments=['BBQ source']"
   ]
  },
  {
   "cell_type": "code",
   "execution_count": 10,
   "metadata": {},
   "outputs": [
    {
     "data": {
      "text/plain": [
       "5"
      ]
     },
     "execution_count": 10,
     "metadata": {},
     "output_type": "execute_result"
    }
   ],
   "source": [
    "#__len(self)__\n",
    "len('hello')"
   ]
  },
  {
   "cell_type": "code",
   "execution_count": null,
   "metadata": {},
   "outputs": [],
   "source": [
    "#__getitem(self,key)\n",
    "my_list=[1,2,3]\n",
    "print(my_list[0])\n",
    "\n",
    "#__setitem__(self,key)\n",
    "my_list[0]=2\n",
    "\n",
    "#__delitem__(self,key)\n",
    "del my_list[0]"
   ]
  },
  {
   "cell_type": "code",
   "execution_count": 13,
   "metadata": {},
   "outputs": [],
   "source": [
    "class ArithmeticSequence:\n",
    "    def __init__(self,start=0,step=1):\n",
    "        self.start=start\n",
    "        self.step=step\n",
    "        self.changed={}\n",
    "        \n",
    "    def __getitem__(self,key):\n",
    "        \n",
    "        if not isinstance(key,int):raise TypeError\n",
    "        if key<0:raise IndexError\n",
    "        try:\n",
    "            return self.changed[key]\n",
    "        except KeyError:\n",
    "            return self.start+key*self.step\n",
    "        \n",
    "    def __setitem__(self,key,value):\n",
    "        ArithmeticSequence\n",
    "        self.changed[key]=value"
   ]
  },
  {
   "cell_type": "code",
   "execution_count": 11,
   "metadata": {},
   "outputs": [
    {
     "ename": "NameError",
     "evalue": "name 'ArithmeticSequence' is not defined",
     "output_type": "error",
     "traceback": [
      "\u001b[1;31m---------------------------------------------------------------------------\u001b[0m",
      "\u001b[1;31mNameError\u001b[0m                                 Traceback (most recent call last)",
      "\u001b[1;32m<ipython-input-11-e1eb8371c58c>\u001b[0m in \u001b[0;36m<module>\u001b[1;34m\u001b[0m\n\u001b[1;32m----> 1\u001b[1;33m \u001b[0ms\u001b[0m\u001b[1;33m=\u001b[0m\u001b[0mArithmeticSequence\u001b[0m\u001b[1;33m(\u001b[0m\u001b[1;36m1\u001b[0m\u001b[1;33m,\u001b[0m\u001b[1;36m2\u001b[0m\u001b[1;33m)\u001b[0m\u001b[1;33m\u001b[0m\u001b[1;33m\u001b[0m\u001b[0m\n\u001b[0m\u001b[0;32m      2\u001b[0m \u001b[0mprint\u001b[0m\u001b[1;33m(\u001b[0m\u001b[0ms\u001b[0m\u001b[1;33m[\u001b[0m\u001b[1;36m4\u001b[0m\u001b[1;33m]\u001b[0m\u001b[1;33m)\u001b[0m\u001b[1;33m\u001b[0m\u001b[1;33m\u001b[0m\u001b[0m\n\u001b[0;32m      3\u001b[0m \u001b[0mprint\u001b[0m\u001b[1;33m(\u001b[0m\u001b[0ms\u001b[0m\u001b[1;33m[\u001b[0m\u001b[1;36m10000\u001b[0m\u001b[1;33m]\u001b[0m\u001b[1;33m)\u001b[0m\u001b[1;33m\u001b[0m\u001b[1;33m\u001b[0m\u001b[0m\n",
      "\u001b[1;31mNameError\u001b[0m: name 'ArithmeticSequence' is not defined"
     ]
    }
   ],
   "source": [
    "s=ArithmeticSequence(1,2)\n",
    "print(s[4])\n",
    "print(s[10000])\n",
    "s[4]=100"
   ]
  },
  {
   "cell_type": "code",
   "execution_count": null,
   "metadata": {},
   "outputs": [],
   "source": [
    "#Iterator\n",
    "my_list=[1,2,3]\n",
    "for i in my_list:\n",
    "    print(i,end=' ')"
   ]
  },
  {
   "cell_type": "code",
   "execution_count": null,
   "metadata": {},
   "outputs": [],
   "source": [
    "容器类要实现__iter__()返回Iterator对象\n",
    "iterator对象要实现__next__()，返回容器下一个项目"
   ]
  },
  {
   "cell_type": "code",
   "execution_count": 19,
   "metadata": {},
   "outputs": [],
   "source": [
    "class Fibs:           #迭代器\n",
    "    def __init__(self,max):\n",
    "        self.a=0\n",
    "        self.b=1\n",
    "        self.max=max\n",
    "        \n",
    "    def __next__(self):\n",
    "        self.a,self.b=self.b,self.a+self.b\n",
    "        if self.a>self.max:raise StopIteration\n",
    "        return self.a\n",
    "        \n",
    "    def __iter__(self):\n",
    "        return self"
   ]
  },
  {
   "cell_type": "code",
   "execution_count": 20,
   "metadata": {},
   "outputs": [
    {
     "name": "stdout",
     "output_type": "stream",
     "text": [
      "1 1 2 3 5 8 13 21 34 55 89 144 233 377 610 987 "
     ]
    }
   ],
   "source": [
    "for i in Fibs(1000):\n",
    "    print(i,end=' ')"
   ]
  },
  {
   "cell_type": "code",
   "execution_count": 22,
   "metadata": {},
   "outputs": [
    {
     "data": {
      "text/plain": [
       "1"
      ]
     },
     "execution_count": 22,
     "metadata": {},
     "output_type": "execute_result"
    }
   ],
   "source": [
    "it=iter([1,2,3])\n",
    "next(it)"
   ]
  },
  {
   "cell_type": "code",
   "execution_count": 23,
   "metadata": {},
   "outputs": [
    {
     "data": {
      "text/plain": [
       "2"
      ]
     },
     "execution_count": 23,
     "metadata": {},
     "output_type": "execute_result"
    }
   ],
   "source": [
    "next(it)"
   ]
  },
  {
   "cell_type": "code",
   "execution_count": 24,
   "metadata": {},
   "outputs": [
    {
     "data": {
      "text/plain": [
       "3"
      ]
     },
     "execution_count": 24,
     "metadata": {},
     "output_type": "execute_result"
    }
   ],
   "source": [
    "next(it)"
   ]
  },
  {
   "cell_type": "code",
   "execution_count": 25,
   "metadata": {},
   "outputs": [
    {
     "ename": "StopIteration",
     "evalue": "",
     "output_type": "error",
     "traceback": [
      "\u001b[1;31m---------------------------------------------------------------------------\u001b[0m",
      "\u001b[1;31mStopIteration\u001b[0m                             Traceback (most recent call last)",
      "\u001b[1;32m<ipython-input-25-bc1ab118995a>\u001b[0m in \u001b[0;36m<module>\u001b[1;34m\u001b[0m\n\u001b[1;32m----> 1\u001b[1;33m \u001b[0mnext\u001b[0m\u001b[1;33m(\u001b[0m\u001b[0mit\u001b[0m\u001b[1;33m)\u001b[0m\u001b[1;33m\u001b[0m\u001b[1;33m\u001b[0m\u001b[0m\n\u001b[0m",
      "\u001b[1;31mStopIteration\u001b[0m: "
     ]
    }
   ],
   "source": [
    "next(it)"
   ]
  },
  {
   "cell_type": "code",
   "execution_count": 26,
   "metadata": {},
   "outputs": [
    {
     "ename": "AttributeError",
     "evalue": "'Ants' object has no attribute 'get_ants'",
     "output_type": "error",
     "traceback": [
      "\u001b[1;31m---------------------------------------------------------------------------\u001b[0m",
      "\u001b[1;31mAttributeError\u001b[0m                            Traceback (most recent call last)",
      "\u001b[1;32m<ipython-input-26-3eb52c9ae105>\u001b[0m in \u001b[0;36m<module>\u001b[1;34m\u001b[0m\n\u001b[0;32m     89\u001b[0m \u001b[0mants\u001b[0m \u001b[1;33m=\u001b[0m \u001b[0mAnts\u001b[0m\u001b[1;33m(\u001b[0m\u001b[1;36m5\u001b[0m\u001b[1;33m)\u001b[0m\u001b[1;33m\u001b[0m\u001b[1;33m\u001b[0m\u001b[0m\n\u001b[0;32m     90\u001b[0m \u001b[1;33m\u001b[0m\u001b[0m\n\u001b[1;32m---> 91\u001b[1;33m \u001b[0mbar\u001b[0m\u001b[1;33m.\u001b[0m\u001b[0mupdate\u001b[0m\u001b[1;33m(\u001b[0m\u001b[0mants\u001b[0m\u001b[1;33m.\u001b[0m\u001b[0mget_ants\u001b[0m\u001b[1;33m(\u001b[0m\u001b[1;33m)\u001b[0m\u001b[1;33m)\u001b[0m\u001b[1;33m\u001b[0m\u001b[1;33m\u001b[0m\u001b[0m\n\u001b[0m\u001b[0;32m     92\u001b[0m \u001b[0mbar\u001b[0m\u001b[1;33m.\u001b[0m\u001b[0mshow\u001b[0m\u001b[1;33m(\u001b[0m\u001b[1;33m)\u001b[0m\u001b[1;33m\u001b[0m\u001b[1;33m\u001b[0m\u001b[0m\n\u001b[0;32m     93\u001b[0m \u001b[1;33m\u001b[0m\u001b[0m\n",
      "\u001b[1;31mAttributeError\u001b[0m: 'Ants' object has no attribute 'get_ants'"
     ]
    }
   ],
   "source": [
    "from time import sleep\n",
    "import random\n",
    "\n",
    "class Bar:\n",
    "    __empty = '-'\n",
    "    def __init__(self, length=80):\n",
    "        self.bar = list()\n",
    "        for i in range(0, length):\n",
    "            self.bar.append(Bar.__empty)\n",
    "    \n",
    "    def reset(self):\n",
    "        for i in range(len(self.bar)):\n",
    "            self.bar[i] = Bar.__empty\n",
    "            \n",
    "    def update(self, ants):\n",
    "        self.reset()\n",
    "        for ant in ants:\n",
    "            if 0 <= ant.position < len(self.bar):\n",
    "                self.bar[ant.position] = ant.symbol\n",
    "                \n",
    "    def is_empty(self):\n",
    "        for item in self.bar:\n",
    "            if not item == Bar.__empty:\n",
    "                return False\n",
    "        else:\n",
    "            return True\n",
    "        \n",
    "    def show(self):\n",
    "        for ch in self.bar:\n",
    "            print(ch, sep='', end='')\n",
    "        print('', end='\\r')\n",
    "        \n",
    "    \n",
    "class Ant:\n",
    "    symbols = 'ABCDEFGHIJKLMNOPQRSTUVWXYZ'\n",
    "    count = 0\n",
    "    def __init__(self, position, direction, symbol=None):\n",
    "        self.position = position\n",
    "        self.direction = direction\n",
    "        if symbol is None:\n",
    "            self.symbol = Ant.symbols[Ant.count]\n",
    "            Ant.count += 1\n",
    "        else:\n",
    "            self.symbol = symbol\n",
    "        \n",
    "    def move(self,uturn):\n",
    "        if uturn:\n",
    "            self.direction*=-1\n",
    "        self.position += self.direction\n",
    "        \n",
    "    def create_random_ant(length=80):\n",
    "        position = random.randint(0, length - 1)\n",
    "        direction = random.choice([1, -1])\n",
    "        return Ant(position, direction)\n",
    "        \n",
    "class Ants:\n",
    "    def __init__(self, count=3):\n",
    "        self.ants = list()\n",
    "        for i in range(count):\n",
    "            self.ants.append(Ant.create_random_ant())\n",
    "\n",
    "    def move(self):\n",
    "        for ant,uturn in [(ant,self.need_uturn(ant)) for ant in self.ants]:\n",
    "            ant.move(uturn)\n",
    "            \n",
    "    def collided(self,ant):\n",
    "        return len([item for item in elf.ants if item.position==ant.position])==2\n",
    "    \n",
    "    def find_ant(self,position):\n",
    "        for ant in self.ants:\n",
    "            if ant.position==position:\n",
    "                return ant\n",
    "    \n",
    "    def need_uturn(self,ant):\n",
    "        if self.collided(ant):\n",
    "            return True\n",
    "        else:\n",
    "            neighbor=self.find_ant(ant.position+ant.direction)\n",
    "            if neighbor.direction!=ant.direction or (neighbor.direction == ant.direction and need_uturn(neighbor)):\n",
    "                return True\n",
    "        return False\n",
    "\n",
    "    #def get_ants(self):\n",
    "    #    return self.ants\n",
    "    def __getitem__(self,key):\n",
    "        return self.ants[key]\n",
    "\n",
    "bar = Bar(80)\n",
    "ants = Ants(5)\n",
    "\n",
    "bar.update(ants.get_ants())\n",
    "bar.show()\n",
    "\n",
    "while not bar.is_empty():\n",
    "    sleep(0.25)\n",
    "    ants.move()\n",
    "    bar.update(ants.get_ants())\n",
    "    bar.show()      "
   ]
  },
  {
   "cell_type": "code",
   "execution_count": null,
   "metadata": {},
   "outputs": [],
   "source": []
  }
 ],
 "metadata": {
  "kernelspec": {
   "display_name": "Python 3",
   "language": "python",
   "name": "python3"
  },
  "language_info": {
   "codemirror_mode": {
    "name": "ipython",
    "version": 3
   },
   "file_extension": ".py",
   "mimetype": "text/x-python",
   "name": "python",
   "nbconvert_exporter": "python",
   "pygments_lexer": "ipython3",
   "version": "3.7.3"
  }
 },
 "nbformat": 4,
 "nbformat_minor": 2
}
