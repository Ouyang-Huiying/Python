{
 "cells": [
  {
   "cell_type": "code",
   "execution_count": 1,
   "metadata": {},
   "outputs": [
    {
     "ename": "SyntaxError",
     "evalue": "invalid syntax (<ipython-input-1-c1ebcf747caf>, line 24)",
     "output_type": "error",
     "traceback": [
      "\u001b[1;36m  File \u001b[1;32m\"<ipython-input-1-c1ebcf747caf>\"\u001b[1;36m, line \u001b[1;32m24\u001b[0m\n\u001b[1;33m    symbols=[-1:'X',0:' ',1:'o']\u001b[0m\n\u001b[1;37m               ^\u001b[0m\n\u001b[1;31mSyntaxError\u001b[0m\u001b[1;31m:\u001b[0m invalid syntax\n"
     ]
    }
   ],
   "source": [
    "from abc import ABC,abstractmethod\n",
    "from enum import Enum\n",
    "from copy import deepcopy\n",
    "\n",
    "class GameResult(Enum):\n",
    "    Continue=0\n",
    "    Blackwin=1\n",
    "    WhiteWin=2\n",
    "    Draw=3\n",
    "#black=-1,x\n",
    "#white=1,o\n",
    "class Board:\n",
    "    def __init__(self):\n",
    "        self.model=[[0,0,0],[0,0,0],[0,0,0],]\n",
    "        \n",
    "    def add_move(self,position,color):\n",
    "        if self.__model[position[0]][position[1]]!=0:\n",
    "            return False\n",
    "        \n",
    "        self.__model[position[0]][position[1]]=color\n",
    "        return True\n",
    "    \n",
    "    def draw(self):\n",
    "        symbols=[-1:'X',0:' ',1:'o']\n",
    "        print('---')\n",
    "        for raw in self.__model:\n",
    "            for item in row:\n",
    "                #\n",
    "            print('')\n",
    "        print('---')\n",
    "        \n",
    "    def get_model(self):\n",
    "        return self.__model\n",
    "\n",
    "\n",
    "class Player(ABC):#abstract base class\n",
    "    @abstractmethod\n",
    "    def move(self,model):\n",
    "        pass\n",
    "\n",
    "class HumanPlayer(Player):\n",
    "    def move(self,model):\n",
    "        row=int(input('row: '))\n",
    "        column=int(input('column: '))\n",
    "        return row,column\n",
    "    \n",
    "class AiPlayer(Player):\n",
    "    def move(self,model,color):\n",
    "        return self.find_move\n",
    "    def find_move(self,model):\n",
    "        if model[1][1]==0:\n",
    "            return Prediction.Draw,(1,1)\n",
    "        for row in range(0,3):\n",
    "            for column in range(0,3):\n",
    "                if model[row][column]!=0:continue\n",
    "                private_model=deepcopy(model)\n",
    "                private_model[row][column]=color\n",
    "                if  Judge().judeg(private_model)==(GameResult.BlackWin\n",
    "                                              if color==-1 else GameResult.WhiteWin):\n",
    "                    return raw,column\n",
    "                \n",
    "        for row in range(0,3):\n",
    "            for column in range(0,3):\n",
    "                if model[row][column]!=0:continue\n",
    "                private_model=deepcopy(model)\n",
    "                private_model[row][column]=color\n",
    "                \n",
    "\n",
    "                    \n",
    "                \n",
    "        pass\n",
    "\n",
    "class Judge:\n",
    "    def judge(self,model):\n",
    "        if self.is_win(model,-1):\n",
    "            return GameResult.BlackWin\n",
    "        if self.is_win(model,1):\n",
    "            return GameResult.WhiteWin\n",
    "        if self.is_full(model):\n",
    "            return GameResult.Draw\n",
    "        else:\n",
    "            return GameResult.Continue\n",
    "        \n",
    "    def is_full(self,model):\n",
    "        for row in model:\n",
    "            if not all(row):\n",
    "                return False\n",
    "        return True\n",
    "    \n",
    "    def is_win(self,model,color):\n",
    "        return any([\n",
    "            model[0][0]==model[1][1]==model[2][2],\n",
    "            model[0][2]==model[1][1]==model[2][0],\n",
    "            model[0][0]==model[0][1]==model[0][2],\n",
    "            model[1][0]==model[1][1]==model[1][2],\n",
    "            model[2][0]==model[2][1]==model[2][2],\n",
    "            model[0][0]==model[1][0]==model[2][0],\n",
    "            model[0][1]==model[1][1]==model[2][1],\n",
    "            model[0][2]==model[1][2]==model[2][2],\n",
    "        ])\n",
    "\n",
    "def test():\n",
    "    board=Board()\n",
    "    board.add_move((1,1),-1)\n",
    "    board.add_move((0,0),1)\n",
    "    board.draw()\n",
    "\n",
    "def run():\n",
    "    players=[HumanPlayer(),HumanPlayer()]\n",
    "    board=Board()\n",
    "    judge=Judge()\n",
    "    \n",
    "    index=0\n",
    "    color=-1\n",
    "    result=GameResult.Continue\n",
    "    while result==GameResult.Continue:\n",
    "        while not board\n",
    "        position=players[index].move(board.get_model)\n",
    "        board.add_move(position,color)\n",
    "        board.draw()\n",
    "        result=judge.judge(board.get_model())\n",
    "        if result!=GameResult.Continue:break\n",
    "        index=1-index\n",
    "        color=-1*color\n",
    "    if result==GameResult.BlackWin:\n",
    "        print('Black ins!')\n",
    "    elif result==GameResult.WhiteWin:\n",
    "        print('White wins!')\n",
    "    else:\n",
    "        print('Draw')\n",
    "        \n",
    "    \n",
    "if __name__=='__main__':\n",
    "    run()\n"
   ]
  },
  {
   "cell_type": "code",
   "execution_count": 8,
   "metadata": {},
   "outputs": [
    {
     "data": {
      "text/plain": [
       "True"
      ]
     },
     "execution_count": 8,
     "metadata": {},
     "output_type": "execute_result"
    }
   ],
   "source": [
    "all([1,2])"
   ]
  },
  {
   "cell_type": "code",
   "execution_count": 9,
   "metadata": {},
   "outputs": [
    {
     "data": {
      "text/plain": [
       "False"
      ]
     },
     "execution_count": 9,
     "metadata": {},
     "output_type": "execute_result"
    }
   ],
   "source": [
    "all([1,0])"
   ]
  },
  {
   "cell_type": "code",
   "execution_count": null,
   "metadata": {},
   "outputs": [],
   "source": []
  }
 ],
 "metadata": {
  "kernelspec": {
   "display_name": "Python 3",
   "language": "python",
   "name": "python3"
  },
  "language_info": {
   "codemirror_mode": {
    "name": "ipython",
    "version": 3
   },
   "file_extension": ".py",
   "mimetype": "text/x-python",
   "name": "python",
   "nbconvert_exporter": "python",
   "pygments_lexer": "ipython3",
   "version": "3.7.3"
  }
 },
 "nbformat": 4,
 "nbformat_minor": 2
}
